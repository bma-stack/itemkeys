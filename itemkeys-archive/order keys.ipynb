{
 "cells": [
  {
   "cell_type": "code",
   "execution_count": null,
   "metadata": {},
   "outputs": [],
   "source": [
    "# define alphanumeric prefix\n",
    "abc = 'ABCDEFGHIJKLMNOPQRSTUVWYZ'\n",
    "orderkeys = []\n",
    "# numeric up to 999\n",
    "for _ in range (1,1000):\n",
    "    if len(str(_)) == 1:\n",
    "        x = \"00\" + str(_)\n",
    "    elif len(str(_)) == 2: \n",
    "        x = \"0\" + str(_)\n",
    "    else:\n",
    "        x = str(_)\n",
    "    orderkeys.append(x)\n",
    "# loop though the characters\n",
    "for c in abc:\n",
    "    # loop through the number range 1 - 99\n",
    "    for _ in range(1,100):\n",
    "        if len(str(_))==1:\n",
    "            x = \"0\" + str(_)\n",
    "        else:\n",
    "            x = str(_)\n",
    "        orderkeys.append(c + x)\n",
    "\n",
    "print(orderkeys)"
   ]
  },
  {
   "cell_type": "code",
   "execution_count": null,
   "metadata": {},
   "outputs": [],
   "source": [
    "len(orderkeys)"
   ]
  },
  {
   "cell_type": "code",
   "execution_count": null,
   "metadata": {},
   "outputs": [],
   "source": [
    "# read to a pandas Series \n",
    "import pandas as pd\n",
    "itemkeys = pd.Series(orderkeys)\n",
    "itemkeys"
   ]
  },
  {
   "cell_type": "code",
   "execution_count": null,
   "metadata": {},
   "outputs": [],
   "source": [
    "# export\n",
    "with pd.ExcelWriter(\"Amaps_itemkeys.xlsx\") as write:\n",
    "    itemkeys.to_excel(write,sheet_name=\"itemkeys\", index=False,)\n"
   ]
  },
  {
   "cell_type": "code",
   "execution_count": null,
   "metadata": {},
   "outputs": [],
   "source": [
    "# provide latest itemkey - numeric value\n",
    "def nextnumkey(x=int, maxn=int): \n",
    "    # should be the latest one \n",
    "    if x < maxn: \n",
    "        add_one = (lambda x:x+1)(x)\n",
    "    else:\n",
    "        add_one = 1 \n",
    "    return add_one"
   ]
  },
  {
   "cell_type": "code",
   "execution_count": null,
   "metadata": {},
   "outputs": [],
   "source": [
    "print(nextnumkey(99))"
   ]
  },
  {
   "cell_type": "code",
   "execution_count": null,
   "metadata": {},
   "outputs": [],
   "source": [
    "# provide latest itemkey - character value\n",
    "def nextstrkey(s=str):\n",
    "    abc ='ABCDEFGHIJKLMNOPQRSTUVWYZ'\n",
    "  \n",
    "    for index, value in enumerate(abc[:-1]):\n",
    "        s_new = \"A\"\n",
    "        if s == value: \n",
    "            i = index+1\n",
    "            s_new = abc[i]\n",
    "    return s_new   "
   ]
  },
  {
   "cell_type": "code",
   "execution_count": null,
   "metadata": {},
   "outputs": [],
   "source": [
    "nextstrkey(\"Z\")"
   ]
  },
  {
   "cell_type": "code",
   "execution_count": null,
   "metadata": {},
   "outputs": [],
   "source": [
    "# test for first value - not used\n",
    "abc ='ABCDEFGHIJKLMNOPQRSTUVWYZ'\n",
    "n = len(abc)\n",
    "for index , value in enumerate(abc[n-1:n]):\n",
    "    print(f\"{index}, {value}\")"
   ]
  },
  {
   "cell_type": "code",
   "execution_count": null,
   "metadata": {},
   "outputs": [],
   "source": [
    "def last_key(oldkeys=list) -> str:\n",
    "    # returns a numeric and a string value \n",
    "    oldkeys.sort()\n",
    "    n = len(oldkeys)\n",
    "    values = oldkeys[n-1:n] # get the last value form a string \n",
    "    newstr = string.join(values) # convert the list to string \n",
    "    return newstr"
   ]
  },
  {
   "cell_type": "code",
   "execution_count": null,
   "metadata": {},
   "outputs": [],
   "source": [
    "last_key([\"A01\", \"B01\"])"
   ]
  },
  {
   "cell_type": "code",
   "execution_count": null,
   "metadata": {},
   "outputs": [],
   "source": [
    "def generate_key(oldkeys=list, n=int): \n",
    "    # generates list of new keys, input: list of keys. number of required new keys\n",
    "    # call the numeric, and the string function in a loop, ouptut a list\n",
    "    lk = last_key(oldkeys)\n",
    "    # determine if we are in the numeric range: \n",
    "    try:\n",
    "        for index, value in enumerate(string):\n",
    "            print(f\"{index} :{value}\")\n",
    "            int(value)\n",
    "            nextkey = nextnumkey(lk)\n",
    "    except ValueError: # has alpha character\n",
    "        nextkey = nextnumkey(lk)\n",
    "    return nextkey\n",
    "assert(['A01', 'A02' ,'B12'])\n",
    "    "
   ]
  },
  {
   "cell_type": "code",
   "execution_count": null,
   "metadata": {},
   "outputs": [],
   "source": [
    "generate_key(['001','002'],1)"
   ]
  },
  {
   "cell_type": "code",
   "execution_count": null,
   "metadata": {},
   "outputs": [],
   "source": [
    "string = \"001\"\n",
    "try:\n",
    "    for index, value in enumerate(string):\n",
    "        print(f\"{index} :{value}\")\n",
    "        int(value)\n",
    "except ValueError:\n",
    "    print(\"numeric\")\n",
    "#x = int(string)\n",
    "#x"
   ]
  },
  {
   "cell_type": "code",
   "execution_count": 1,
   "metadata": {},
   "outputs": [
    {
     "data": {
      "text/plain": [
       "{'k': ['001', '002', '003'],\n",
       " 'e': ['001', '002', '003'],\n",
       " 'y': ['001', '002', '003'],\n",
       " 's': ['001', '002', '003']}"
      ]
     },
     "execution_count": 1,
     "metadata": {},
     "output_type": "execute_result"
    }
   ],
   "source": [
    "l = [\"001\",\"002\",\"003\"]\n",
    "d = dict.fromkeys(\"keys\",l)\n",
    "d"
   ]
  },
  {
   "cell_type": "code",
   "execution_count": 2,
   "metadata": {},
   "outputs": [
    {
     "data": {
      "text/plain": [
       "{'keys': ['001', '002', '003']}"
      ]
     },
     "execution_count": 2,
     "metadata": {},
     "output_type": "execute_result"
    }
   ],
   "source": [
    "d2 = {}\n",
    "d2[\"keys\"] = l\n",
    "d2"
   ]
  }
 ],
 "metadata": {
  "interpreter": {
   "hash": "aee8b7b246df8f9039afb4144a1f6fd8d2ca17a180786b69acc140d282b71a49"
  },
  "kernelspec": {
   "display_name": "Python 3.8.1 64-bit",
   "name": "python3"
  },
  "language_info": {
   "codemirror_mode": {
    "name": "ipython",
    "version": 3
   },
   "file_extension": ".py",
   "mimetype": "text/x-python",
   "name": "python",
   "nbconvert_exporter": "python",
   "pygments_lexer": "ipython3",
   "version": "3.8.1"
  },
  "orig_nbformat": 4
 },
 "nbformat": 4,
 "nbformat_minor": 2
}
